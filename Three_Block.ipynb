{
  "nbformat": 4,
  "nbformat_minor": 0,
  "metadata": {
    "colab": {
      "name": "Three_Block.ipynb",
      "provenance": [],
      "collapsed_sections": [],
      "authorship_tag": "ABX9TyPRstwBPJFGphHD5KUyV2KI",
      "include_colab_link": true
    },
    "kernelspec": {
      "name": "python3",
      "display_name": "Python 3"
    },
    "language_info": {
      "name": "python"
    },
    "accelerator": "GPU"
  },
  "cells": [
    {
      "cell_type": "markdown",
      "metadata": {
        "id": "view-in-github",
        "colab_type": "text"
      },
      "source": [
        "<a href=\"https://colab.research.google.com/github/mgmorales1/Assembly_to_Machine_Lang/blob/master/Three_Block.ipynb\" target=\"_parent\"><img src=\"https://colab.research.google.com/assets/colab-badge.svg\" alt=\"Open In Colab\"/></a>"
      ]
    },
    {
      "cell_type": "code",
      "metadata": {
        "id": "fg2vvO-wM_Pc",
        "colab": {
          "base_uri": "https://localhost:8080/"
        },
        "outputId": "d5734cc4-8426-49ff-ce2c-2ce97866aae1"
      },
      "source": [
        "# Mount the drive to colab notebook \n",
        "from google.colab import drive\n",
        "drive.mount('/content/gdrive')\n",
        "\n",
        "import os\n",
        "os.environ['KAGGLE_CONFIG_DIR'] = \"/content/gdrive/MyDrive/Kaggle\"\n",
        "# /content/gdrive/MyDrive/Kaggle is the path where kaggle.json is present in the Google Drive\n",
        "\n",
        "#changing the working directory\n",
        "%cd /content/gdrive/MyDrive/Kaggle\n",
        "\n",
        "!pwd\n",
        "!ls\n",
        "\n"
      ],
      "execution_count": 11,
      "outputs": [
        {
          "output_type": "stream",
          "text": [
            "Drive already mounted at /content/gdrive; to attempt to forcibly remount, call drive.mount(\"/content/gdrive\", force_remount=True).\n",
            "/content/gdrive/MyDrive/Kaggle\n",
            "/content/gdrive/MyDrive/Kaggle\n",
            "'dogs-vs-cats-for drive'\t  kaggle.json\n",
            " ipykernel_launcher.py_plot.png   __MACOSX\n"
          ],
          "name": "stdout"
        }
      ]
    },
    {
      "cell_type": "code",
      "metadata": {
        "id": "rUfNTXXYULe6"
      },
      "source": [
        "#unzipping the zip files and deleting the zip files\n",
        "!unzip \\*.zip  && rm *.zip"
      ],
      "execution_count": null,
      "outputs": []
    },
    {
      "cell_type": "code",
      "metadata": {
        "colab": {
          "base_uri": "https://localhost:8080/"
        },
        "id": "0of_UvncKjko",
        "outputId": "37ae0612-1195-4fca-cc3b-aadde7e6c600"
      },
      "source": [
        " \n",
        "import os\n",
        "\n",
        "os.environ['KAGGLE_CONFIG_DIR'] = \"/content/gdrive/MyDrive/Kaggle\"\n",
        "onlyfiles = next(os.walk('/content/gdrive/My Drive/Kaggle/dogs-vs-cats-for drive/train/test/cats/'))[2] #dir is your directory path as string\n",
        "print(len(onlyfiles))\n",
        "\n"
      ],
      "execution_count": null,
      "outputs": [
        {
          "output_type": "stream",
          "text": [
            "3093\n"
          ],
          "name": "stdout"
        }
      ]
    },
    {
      "cell_type": "code",
      "metadata": {
        "colab": {
          "base_uri": "https://localhost:8080/"
        },
        "id": "bvSMEo-SuJ_P",
        "outputId": "de6d88ae-04fb-4864-a318-a6a77d6f22a3"
      },
      "source": [
        "%cd dogs-vs-cats-for drive/train/train/\n",
        "\n",
        "\n"
      ],
      "execution_count": 12,
      "outputs": [
        {
          "output_type": "stream",
          "text": [
            "/content/gdrive/MyDrive/Kaggle/dogs-vs-cats-for drive/train/train\n"
          ],
          "name": "stdout"
        }
      ]
    },
    {
      "cell_type": "code",
      "metadata": {
        "id": "whV_9npKF3XY"
      },
      "source": [
        "import sys\n",
        "from tensorflow import keras\n",
        "from matplotlib import pyplot\n",
        "from keras.utils import to_categorical\n",
        "from keras.models import Sequential\n",
        "from keras.layers import Conv2D\n",
        "from keras.layers import MaxPooling2D\n",
        "from keras.layers import Dense\n",
        "from keras.layers import Flatten\n",
        "from keras.optimizers import SGD\n",
        "from keras.preprocessing.image import ImageDataGenerator\n",
        "from keras.layers import Dropout\n",
        "from keras.optimizers import Adam\n",
        "\n",
        "def define_model():\n",
        "  # The CNN model is built using Sequential() which will link a series of layers together\n",
        "  model = Sequential()\n",
        "  # 3 Block Model consists of 3 Blocks each containing a Conv2D and MaxPooling2D layer\n",
        "  model.add(Conv2D(32, (3, 3), activation='relu', kernel_initializer='he_uniform', padding='same', input_shape=(200, 200, 3)))\n",
        "  model.add(MaxPooling2D((2, 2)))\n",
        "  # Dropout occurs at the end of each layer except the output layer to prevent overfitting\n",
        "  # Basically, 10% of neurons will be dropped out from both the forward and backward phase\n",
        "  # This prevents neurons from learning based on context and their position around other neurons\n",
        "  model.add(Dropout(.20))\n",
        "  \n",
        "  model.add(Conv2D(64, (3, 3), activation='relu', kernel_initializer='he_uniform', padding='same'))\n",
        "  model.add(MaxPooling2D((2, 2)))\n",
        "  \n",
        "  model.add(Dropout(.30))\n",
        "  model.add(Conv2D(128, (3, 3), activation='relu', kernel_initializer='he_uniform', padding='same'))\n",
        "  model.add(MaxPooling2D((2, 2)))\n",
        "  \n",
        "  model.add(Dropout(.40))\n",
        "  model.add(Flatten())\n",
        "\n",
        "  model.add(Dense(128, activation='relu', kernel_initializer='he_uniform'))\n",
        "  model.add(Dropout(.50))\n",
        "  \n",
        "  model.add(Dense(1, activation='sigmoid'))\n",
        "  # maria = 2\n",
        "  # compile model\n",
        "  # opt = SGD(lr=0.001, momentum=0.9)\n",
        "  default_opt = Adam(learning_rate=0.001)\n",
        "  model.compile(optimizer=default_opt, loss='binary_crossentropy', metrics=['accuracy'])\n",
        "  return model"
      ],
      "execution_count": 51,
      "outputs": []
    },
    {
      "cell_type": "code",
      "metadata": {
        "id": "iPzo-o4GQDNU"
      },
      "source": [
        "\n",
        " \n",
        "# plot diagnostic learning curves\n",
        "def summarize_diagnostics(history):\n",
        "\t# plot loss\n",
        "\tpyplot.subplot(211)\n",
        "\tpyplot.title('Cross Entropy Loss')\n",
        "\tpyplot.plot(history.history['loss'], color='blue', label='train')\n",
        "\tpyplot.plot(history.history['val_loss'], color='orange', label='test')\n",
        "\t# plot accuracy\n",
        "\tpyplot.subplot(212)\n",
        "\tpyplot.title('Classification Accuracy')\n",
        "\tpyplot.plot(history.history['accuracy'], color='blue', label='train')\n",
        "\tpyplot.plot(history.history['val_accuracy'], color='orange', label='test')\n",
        "\t# save plot to file\n",
        "\tfilename = sys.argv[0].split('/')[-1]\n",
        "\tpyplot.savefig(filename + '_plot.png')\n",
        "\n",
        "\tpyplot.close()\n",
        " \n"
      ],
      "execution_count": 54,
      "outputs": []
    },
    {
      "cell_type": "code",
      "metadata": {
        "id": "U_gsGDdpGGrT"
      },
      "source": [
        "# run the test harness for evaluating a model\n",
        "def run_test_harness():\n",
        "\t# define model\n",
        "\tmodel = define_model()\n",
        "\n",
        "\n",
        "\t# IMAGE GENERATION\n",
        "\t# ---------------------------\n",
        "\t# create two data generators\n",
        "\t# One generator will be for the *Augmented* training data in order to add noise to the images\n",
        "\t# Other image data generator will be for test data and will not be augmented\n",
        "\n",
        "\t# Small width and height chances of 15% and include random horizontal flips\n",
        "\t# Augmentation will help the model focus on individual features independent of position and other nearby pixels\n",
        "\ttest_datagen = ImageDataGenerator(rescale=1.0/255.0, width_shift_range=0.15, height_shift_range=0.15, \n",
        "\t\thorizontal_flip = True)\n",
        "\ttrain_datagen = ImageDataGenerator(rescale=1.0/255.0)\n",
        "\n",
        "\n",
        "\t# Generate batches of data for training and test sets\n",
        "\t# Iterate through the images in the dogs-vs-catstrain and dogs-vs-catstest1 directories\n",
        "\ttrain_it = train_datagen.flow_from_directory('/content/gdrive/My Drive/Kaggle/dogs-vs-cats-for drive/train/train/',\n",
        "\t\tclass_mode='binary', batch_size=64, target_size=(200, 200))\n",
        "\ttest_it = test_datagen.flow_from_directory('/content/gdrive/My Drive/Kaggle/dogs-vs-cats-for drive/train/test/',\n",
        "\t\tclass_mode='binary', batch_size=64, target_size=(200, 200))\n",
        "\n",
        "\n",
        "\t\t\n",
        "\t# fit model\n",
        "\thistory = model.fit_generator(train_it, steps_per_epoch=len(train_it),\n",
        "\t\tvalidation_data=test_it, validation_steps=len(test_it), epochs=50, verbose=1)\n",
        "\n",
        "\n",
        "\t# evaluate model\n",
        "\t_, acc = model.evaluate_generator(test_it, steps=len(test_it), verbose=0)\n",
        "\tprint('> %.3f' % (acc * 100.0))\n",
        "\t# learning curves\n",
        "\tsummarize_diagnostics(history)\n",
        " \n"
      ],
      "execution_count": 55,
      "outputs": []
    },
    {
      "cell_type": "code",
      "metadata": {
        "id": "C46G6O5iGKpv"
      },
      "source": [
        "# entry point, run the test harness\n",
        "run_test_harness()"
      ],
      "execution_count": null,
      "outputs": []
    },
    {
      "cell_type": "code",
      "metadata": {
        "colab": {
          "base_uri": "https://localhost:8080/"
        },
        "id": "WjVMy9KiDOBL",
        "outputId": "82160e00-d220-49c7-8d97-893b4f627ef9"
      },
      "source": [
        "!ls"
      ],
      "execution_count": 74,
      "outputs": [
        {
          "output_type": "stream",
          "text": [
            "cats  dogs\n"
          ],
          "name": "stdout"
        }
      ]
    },
    {
      "cell_type": "code",
      "metadata": {
        "id": "wpGXcTJGDLYF"
      },
      "source": [
        "#unzipping the zip files and deleting the zip files\n",
        "!unzip \\*.zip  && rm *.zip"
      ],
      "execution_count": null,
      "outputs": []
    },
    {
      "cell_type": "code",
      "metadata": {
        "colab": {
          "base_uri": "https://localhost:8080/"
        },
        "id": "kM24LwOGDclV",
        "outputId": "6d978ef7-48c0-407f-b1c8-3dd74079d027"
      },
      "source": [
        "import os\n",
        "\n",
        "os.environ['KAGGLE_CONFIG_DIR'] = \"/content/gdrive/MyDrive/Kaggle\"\n",
        "onlyfiles = next(os.walk('/content/gdrive/MyDrive/Kaggle/finalize_dogs_vs_cats_for_drive/dogs'))[2] #dir is your directory path as string\n",
        "print(len(onlyfiles))"
      ],
      "execution_count": 76,
      "outputs": [
        {
          "output_type": "stream",
          "text": [
            "12500\n"
          ],
          "name": "stdout"
        }
      ]
    },
    {
      "cell_type": "code",
      "metadata": {
        "id": "ZVVu7CCX3KrJ"
      },
      "source": [
        "from keras.models import Model\n",
        "def define_final_model():\n",
        "  # The CNN model is built using Sequential() which will link a series of layers together\n",
        "  model = Sequential()\n",
        "  # 3 Block Model consists of 3 Blocks each containing a Conv2D and MaxPooling2D layer\n",
        "  model.add(Conv2D(32, (3, 3), activation='relu', kernel_initializer='he_uniform', padding='same', input_shape=(200, 200, 3)))\n",
        "  model.add(MaxPooling2D((2, 2)))\n",
        "  # Dropout occurs at the end of each layer except the output layer to prevent overfitting\n",
        "  # Basically, 10% of neurons will be dropped out from both the forward and backward phase\n",
        "  # This prevents neurons from learning based on context and their position around other neurons\n",
        "  model.add(Dropout(.20))\n",
        "  \n",
        "  model.add(Conv2D(64, (3, 3), activation='relu', kernel_initializer='he_uniform', padding='same'))\n",
        "  model.add(MaxPooling2D((2, 2)))\n",
        "  \n",
        "  model.add(Dropout(.30))\n",
        "  model.add(Conv2D(128, (3, 3), activation='relu', kernel_initializer='he_uniform', padding='same'))\n",
        "  model.add(MaxPooling2D((2, 2)))\n",
        "  \n",
        "  model.add(Dropout(.40))\n",
        "  model.add(Flatten())\n",
        "\n",
        "  model.add(Dense(128, activation='relu', kernel_initializer='he_uniform'))\n",
        "  model.add(Dropout(.50))\n",
        "  \n",
        "  model.add(Dense(1, activation='sigmoid'))\n",
        "  # maria = 2\n",
        "  # compile model\n",
        "  # opt = SGD(lr=0.001, momentum=0.9)\n",
        "  default_opt = Adam(learning_rate=0.001)\n",
        "  model.compile(optimizer=default_opt, loss='binary_crossentropy', metrics=['accuracy'])\n",
        "  return model\n"
      ],
      "execution_count": 77,
      "outputs": []
    },
    {
      "cell_type": "code",
      "metadata": {
        "id": "ma2fl1-gCtX2"
      },
      "source": [
        "# run the test harness for evaluating a model\n",
        "def run_final_test_harness():\n",
        "# define model\n",
        "\tmodel = define_final_model()\n",
        "\t# create data generator\n",
        "\tdatagen = ImageDataGenerator(featurewise_center=True)\n",
        "\t# specify imagenet mean values for centering\n",
        "\tdatagen.mean = [123.68, 116.779, 103.939]\n",
        "\t# prepare iterator\n",
        "\ttrain_it = datagen.flow_from_directory('/content/gdrive/MyDrive/Kaggle/finalize_dogs_vs_cats_for_drive/',\n",
        "\t\tclass_mode='binary', batch_size=64, target_size=(200, 200))\n",
        "\t# fit model\n",
        "\tmodel.fit_generator(train_it, steps_per_epoch=len(train_it), epochs=10, verbose=1)\n",
        "\t# save model\n",
        "\tmodel.save('final_model.h5')"
      ],
      "execution_count": 83,
      "outputs": []
    },
    {
      "cell_type": "code",
      "metadata": {
        "id": "fw4p2mtBFId3"
      },
      "source": [
        "run_final_test_harness()"
      ],
      "execution_count": null,
      "outputs": []
    },
    {
      "cell_type": "code",
      "metadata": {
        "colab": {
          "base_uri": "https://localhost:8080/"
        },
        "id": "ZgwnUtjgLley",
        "outputId": "7b3ad89d-78f7-4515-fa57-f194f0c7e5df"
      },
      "source": [
        "!pwd\n",
        "!ls"
      ],
      "execution_count": 87,
      "outputs": [
        {
          "output_type": "stream",
          "text": [
            "/content/gdrive/My Drive/Kaggle/finalize_dogs_vs_cats_for_drive\n",
            "cats  dogs  final_model.h5\n"
          ],
          "name": "stdout"
        }
      ]
    },
    {
      "cell_type": "code",
      "metadata": {
        "colab": {
          "base_uri": "https://localhost:8080/"
        },
        "id": "TZJHfLNXLtO5",
        "outputId": "95b24f28-a432-49f9-8080-80abe9546775"
      },
      "source": [
        "# make a prediction for a new image.\n",
        "from keras.preprocessing.image import load_img\n",
        "from keras.preprocessing.image import img_to_array\n",
        "from keras.models import load_model\n",
        " \n",
        "# load and prepare the image\n",
        "def load_image(path):\n",
        "\t# load the image\n",
        "\timg = load_img(path, target_size=(200, 200))\n",
        "\t# convert to array\n",
        "\timg = img_to_array(img)\n",
        "\t# reshape into a single sample with 3 channels\n",
        "\timg = img.reshape(1, 200, 200, 3)\n",
        "\t# center pixel data\n",
        "\timg = img.astype('float32')\n",
        "\timg = img - [123.68, 116.779, 103.939]\n",
        "\treturn img\n",
        " \n",
        "# load an image and predict the class\n",
        "def run_example():\n",
        "\t# load the image\n",
        "\timg = load_image('/content/gdrive/MyDrive/Kaggle/dogs-vs-cats-for drive/test1/10.jpg')\n",
        "\t# load model\n",
        "\tmodel = load_model('final_model.h5')\n",
        "\t# predict the class\n",
        "\tresult = model.predict(img)\n",
        "\tprint(result[0])\n",
        " \n",
        "# entry point, run the example\n",
        "run_example()"
      ],
      "execution_count": 95,
      "outputs": [
        {
          "output_type": "stream",
          "text": [
            "WARNING:tensorflow:5 out of the last 5 calls to <function Model.make_predict_function.<locals>.predict_function at 0x7f218a5e3680> triggered tf.function retracing. Tracing is expensive and the excessive number of tracings could be due to (1) creating @tf.function repeatedly in a loop, (2) passing tensors with different shapes, (3) passing Python objects instead of tensors. For (1), please define your @tf.function outside of the loop. For (2), @tf.function has experimental_relax_shapes=True option that relaxes argument shapes that can avoid unnecessary retracing. For (3), please refer to https://www.tensorflow.org/guide/function#controlling_retracing and https://www.tensorflow.org/api_docs/python/tf/function for  more details.\n",
            "[0.45257846]\n"
          ],
          "name": "stdout"
        }
      ]
    }
  ]
}